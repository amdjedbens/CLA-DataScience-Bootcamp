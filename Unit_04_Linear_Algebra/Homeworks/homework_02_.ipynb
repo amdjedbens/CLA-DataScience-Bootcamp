{
  "nbformat": 4,
  "nbformat_minor": 0,
  "metadata": {
    "colab": {
      "name": "homework_02_.ipynb",
      "private_outputs": true,
      "provenance": []
    },
    "kernelspec": {
      "name": "python3",
      "display_name": "Python 3"
    },
    "language_info": {
      "name": "python"
    }
  },
  "cells": [
    {
      "cell_type": "markdown",
      "source": [
        "#### Linear Algebra homework\n",
        "**Homework**:\n",
        "\n",
        "You are given a colored image, read the image and apply the following operations to it:\n",
        "\n",
        "- Transpose.\n",
        "\n",
        "- Check if the matrix is one or many of the special types we have seen (diagonal, triagonal...).\n",
        "\n",
        "- Choose a column vector and calculate both norms that we’ve seen.\n",
        "\n",
        "**Solution**:"
      ],
      "metadata": {
        "id": "e5V5pwGmTs3v"
      }
    },
    {
      "cell_type": "code",
      "source": [
        "import numpy as np\n",
        "# PILlow library to maniputalte images\n",
        "from PIL import Image\n",
        "# form to calculate norm\n",
        "from numpy.linalg import norm"
      ],
      "metadata": {
        "id": "BvD4r7JRMPHI"
      },
      "execution_count": null,
      "outputs": []
    },
    {
      "cell_type": "code",
      "source": [
        "#reading an image\n",
        "img = Image.open('ghazali_cat.jpg')  \n",
        "mat = np.array(img)\n",
        "# checking matrix shape\n",
        "print(mat.shape)      \n",
        "#The tensor is not square"
      ],
      "metadata": {
        "id": "9k2A2SUKMeDB"
      },
      "execution_count": null,
      "outputs": []
    },
    {
      "cell_type": "code",
      "source": [
        "#Transpose\n",
        "print('The transpose is \\n {}'.format(mat.T))\n"
      ],
      "metadata": {
        "id": "rozZ92FQQDeB"
      },
      "execution_count": null,
      "outputs": []
    },
    {
      "cell_type": "code",
      "source": [
        "#Calculate the norms\n",
        "v = np.array([4,6,-2])\n",
        "print('Norm 1: {}'.format(norm(v,1))) # sum of absolute value\n",
        "print('Norm 1: {}'.format(norm(v,2))) # sqrt of roots\n"
      ],
      "metadata": {
        "id": "4hkBlLQwO9tp"
      },
      "execution_count": null,
      "outputs": []
    }
  ]
}