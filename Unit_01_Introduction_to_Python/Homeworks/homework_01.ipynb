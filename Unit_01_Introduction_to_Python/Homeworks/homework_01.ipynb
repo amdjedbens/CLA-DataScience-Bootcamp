{
 "cells": [
  {
   "cell_type": "markdown",
   "metadata": {},
   "source": [
    "### String and Lists Homework\n",
    "#### Homework\n",
    "\n",
    "1. Create a list that contains all the even numbers between 1 and 299.\n",
    "2. Iterate through the previously created list and print first the length of the list then all the squared values of the list.\n",
    "3. In one line check if 57 is in the list using one line of python.\n",
    "\n",
    "#### My solution:\n"
   ]
  },
  {
   "cell_type": "code",
   "execution_count": null,
   "metadata": {},
   "outputs": [],
   "source": [
    "#1 a list that contains all the even numbers between 1 and 299.\n",
    "even_numbers_list = [i for i in range(300) if i%2==0]\n",
    "print(even_numbers_list)\n",
    "print(\"list length: \",len(even_numbers_list))\n",
    "\n",
    "#2\n",
    "print(\"squared values of the list: \", end=\" \")\n",
    "for i in even_numbers_list:\n",
    "    print(i*i, end=\" \")\n",
    "\n",
    "#3    \n",
    "print(\"\\n\",57 in even_numbers_list)"
   ]
  },
  {
   "cell_type": "markdown",
   "metadata": {},
   "source": [
    "### I/O Homework\n",
    "#### Homework\n",
    "Given the file “student_names.txt\" do the following:\n",
    "\n",
    "1. Read all of the content of the file in one variable.\n",
    "2. Write a list of random names to your file.\n",
    "3. Read the first n lines of the file.\n",
    "4. Read the last n lines of the file.\n",
    "5. Check if the name x is in the file.\n",
    "6. Write a Python program to generate 26 text files named A.txt, B.txt, and so on up to Z.txt.\n",
    "\n",
    "#### My solution:"
   ]
  },
  {
   "cell_type": "code",
   "execution_count": null,
   "metadata": {},
   "outputs": [],
   "source": [
    "#io homework\n",
    "# read file content\n",
    "file = open('student_names.txt','r')\n",
    "student_names = file.read()\n",
    "print(student_names)\n",
    "file.close()\n",
    "print()\n",
    "#write a list of random names to file\n",
    "file = open('student_names.txt','w')\n",
    "student_names += '\\nGalileo Galilei\\nAda Lovelace'\n",
    "file.write(student_names)\n",
    "file.close()\n",
    "print()"
   ]
  },
  {
   "cell_type": "code",
   "execution_count": null,
   "metadata": {},
   "outputs": [],
   "source": [
    "# reading the first n lines of the file.\n",
    "def read_first_lines(n):\n",
    "    with open('student_names.txt') as f:\n",
    "        print(f.readlines()[:n])\n",
    "        #for i in range(n):\n",
    "        #    print(f.readline().strip())\n",
    "read_first_lines(2)\n",
    "print()\n",
    "# reading the last n lines of the file\n",
    "def read_last_lines(n):\n",
    "    with open('student_names.txt') as f:\n",
    "        print(f.readlines()[-n:])\n",
    "\n",
    "read_last_lines(4) "
   ]
  },
  {
   "cell_type": "code",
   "execution_count": null,
   "metadata": {},
   "outputs": [],
   "source": [
    "# check if string in file\n",
    "def string_in_file(s):\n",
    "    with open('student_names.txt') as f:\n",
    "        return s in f.read()\n",
    "string_in_file('amdjed')    \n",
    "string_in_file('Albert')  "
   ]
  },
  {
   "cell_type": "code",
   "execution_count": null,
   "metadata": {},
   "outputs": [],
   "source": [
    "# create files alphabets-named\n",
    "from string import ascii_uppercase as alphabets\n",
    "\n",
    "for i in alphabets:\n",
    "    f = open(i+'.txt','x')\n",
    "    print('created: ', i)\n",
    "    f.close()"
   ]
  },
  {
   "cell_type": "markdown",
   "metadata": {},
   "source": [
    "### Functions Homework\n",
    "#### Homework\n",
    "1. Write a Python function that checks whether a passed string is palindrome or not. A palindrome is a word, phrase, or sequence that reads the same backward as forward, e.g., madam or nurses run.\n",
    "\n",
    "2. Write a Python function that takes a number as a parameter and checks if the number is prime or not. A prime number (or a prime) is a natural number greater than 1 and that has no positive divisors other than 1 and itself.\n",
    "\n",
    "3. Write a Python function to check whether a number is in a given range.\n",
    "\n",
    "4. Write a Python function to calculate the factorial of a number (a non-negative integer). The function accepts the number as an argument.\n",
    "\n",
    "5. Write a Python program to reverse a string.\n",
    "\n",
    "6. Write a Python function to sum all the numbers in a list.\n",
    "\n",
    "7. Write a Python function to find the Max of three numbers.\n",
    "#### Solution"
   ]
  },
  {
   "cell_type": "code",
   "execution_count": null,
   "metadata": {},
   "outputs": [],
   "source": [
    "# palindrome check\n",
    "\n",
    "def palindrome_check(s):\n",
    "    # check for characters order only (neglecting sensitive case)\n",
    "    return s.replace(' ','').lower() == s[::-1].replace(' ','').lower()\n",
    "    \n",
    "    # in case we check for sensitive case & match the whole word pattern, we compare using the below instruction\n",
    "    #return s == s[::-1]\n",
    "\n",
    "print(palindrome_check('nurses run'))"
   ]
  },
  {
   "cell_type": "code",
   "execution_count": null,
   "metadata": {},
   "outputs": [],
   "source": [
    "# prime number check\n",
    "\n",
    "def prime_check(n):\n",
    "    flag = False\n",
    "    if n>1:\n",
    "        for i in range(2,n):\n",
    "            if (n%i) == 0: return flag\n",
    "        return not flag\n",
    "    else:\n",
    "        return flag\n",
    "        \n",
    "print(prime_check(29))"
   ]
  },
  {
   "cell_type": "code",
   "execution_count": null,
   "metadata": {},
   "outputs": [],
   "source": [
    "# check wether number in range\n",
    "def in_range(n,a,b):\n",
    "    return (n >= a and n<=b)\n",
    "print(in_range(6,1,15))\n",
    "\n",
    "# factorial of a number\n",
    "def facto(n):\n",
    "    if (n==0):\n",
    "        return 1\n",
    "    else:\n",
    "        return n*facto(n-1)\n",
    "print(facto(10))\n",
    "\n",
    "# reverse a string\n",
    "def str_rev(s):\n",
    "    return s[::-1]\n",
    "    #s1 = ''\n",
    "    #for i in range(len(s)-1,-1,-1):\n",
    "        #s1 +=s[i]\n",
    "    #return s1\n",
    "print(str_rev('John Doe'))"
   ]
  },
  {
   "cell_type": "markdown",
   "metadata": {},
   "source": [
    "### Exceptions Homework"
   ]
  },
  {
   "cell_type": "markdown",
   "metadata": {},
   "source": [
    "1. Read the following code and change it so that it treats the possible exceptions that might arise.\n",
    "        \n",
    "    > a = 12\n",
    "\n",
    "    > s = \"hello\"\n",
    "\n",
    "    > print(a+s)\n",
    "\n",
    "#### Solution"
   ]
  },
  {
   "cell_type": "code",
   "execution_count": 12,
   "metadata": {},
   "outputs": [
    {
     "name": "stdout",
     "output_type": "stream",
     "text": [
      "> ERROR: You can't add perform this operation with two different types.\n"
     ]
    }
   ],
   "source": [
    "a = 12\n",
    "s = \"hello\"\n",
    "try:\n",
    "    print(a+s)\n",
    "except TypeError:\n",
    "    print(\"> ERROR: You can't add perform this operation with two different types.\")\n"
   ]
  }
 ],
 "metadata": {
  "interpreter": {
   "hash": "916dbcbb3f70747c44a77c7bcd40155683ae19c65e1c03b4aa3499c5328201f1"
  },
  "kernelspec": {
   "display_name": "Python 3.8.10 64-bit",
   "language": "python",
   "name": "python3"
  },
  "language_info": {
   "codemirror_mode": {
    "name": "ipython",
    "version": 3
   },
   "file_extension": ".py",
   "mimetype": "text/x-python",
   "name": "python",
   "nbconvert_exporter": "python",
   "pygments_lexer": "ipython3",
   "version": "3.8.10"
  },
  "orig_nbformat": 4
 },
 "nbformat": 4,
 "nbformat_minor": 2
}
