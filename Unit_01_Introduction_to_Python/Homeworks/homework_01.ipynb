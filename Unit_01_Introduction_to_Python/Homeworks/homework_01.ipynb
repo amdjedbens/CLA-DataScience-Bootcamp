{
 "cells": [
  {
   "cell_type": "markdown",
   "metadata": {},
   "source": [
    "### String and Lists Homework\n",
    "#### Homework\n",
    "\n",
    "1. Create a list that contains all the even numbers between 1 and 299.\n",
    "2. Iterate through the previously created list and print first the length of the list then all the squared values of the list.\n",
    "3. In one line check if 57 is in the list using one line of python.\n",
    "\n"
   ]
  },
  {
   "cell_type": "code",
   "execution_count": 21,
   "metadata": {},
   "outputs": [
    {
     "name": "stdout",
     "output_type": "stream",
     "text": [
      "[0, 2, 4, 6, 8, 10, 12, 14, 16, 18, 20, 22, 24, 26, 28, 30, 32, 34, 36, 38, 40, 42, 44, 46, 48, 50, 52, 54, 56, 58, 60, 62, 64, 66, 68, 70, 72, 74, 76, 78, 80, 82, 84, 86, 88, 90, 92, 94, 96, 98, 100, 102, 104, 106, 108, 110, 112, 114, 116, 118, 120, 122, 124, 126, 128, 130, 132, 134, 136, 138, 140, 142, 144, 146, 148, 150, 152, 154, 156, 158, 160, 162, 164, 166, 168, 170, 172, 174, 176, 178, 180, 182, 184, 186, 188, 190, 192, 194, 196, 198, 200, 202, 204, 206, 208, 210, 212, 214, 216, 218, 220, 222, 224, 226, 228, 230, 232, 234, 236, 238, 240, 242, 244, 246, 248, 250, 252, 254, 256, 258, 260, 262, 264, 266, 268, 270, 272, 274, 276, 278, 280, 282, 284, 286, 288, 290, 292, 294, 296, 298]\n",
      "list length:  150\n",
      "squared values of the list:  0 4 16 36 64 100 144 196 256 324 400 484 576 676 784 900 1024 1156 1296 1444 1600 1764 1936 2116 2304 2500 2704 2916 3136 3364 3600 3844 4096 4356 4624 4900 5184 5476 5776 6084 6400 6724 7056 7396 7744 8100 8464 8836 9216 9604 10000 10404 10816 11236 11664 12100 12544 12996 13456 13924 14400 14884 15376 15876 16384 16900 17424 17956 18496 19044 19600 20164 20736 21316 21904 22500 23104 23716 24336 24964 25600 26244 26896 27556 28224 28900 29584 30276 30976 31684 32400 33124 33856 34596 35344 36100 36864 37636 38416 39204 40000 40804 41616 42436 43264 44100 44944 45796 46656 47524 48400 49284 50176 51076 51984 52900 53824 54756 55696 56644 57600 58564 59536 60516 61504 62500 63504 64516 65536 66564 67600 68644 69696 70756 71824 72900 73984 75076 76176 77284 78400 79524 80656 81796 82944 84100 85264 86436 87616 88804 \n",
      " False\n"
     ]
    }
   ],
   "source": [
    "#1 a list that contains all the even numbers between 1 and 299.\n",
    "even_numbers_list = [i for i in range(300) if i%2==0]\n",
    "print(even_numbers_list)\n",
    "print(\"list length: \",len(even_numbers_list))\n",
    "\n",
    "#2\n",
    "print(\"squared values of the list: \", end=\" \")\n",
    "for i in even_numbers_list:\n",
    "    print(i*i, end=\" \")\n",
    "\n",
    "#3    \n",
    "print(\"\\n\",57 in even_numbers_list)"
   ]
  }
 ],
 "metadata": {
  "interpreter": {
   "hash": "916dbcbb3f70747c44a77c7bcd40155683ae19c65e1c03b4aa3499c5328201f1"
  },
  "kernelspec": {
   "display_name": "Python 3.8.10 64-bit",
   "language": "python",
   "name": "python3"
  },
  "language_info": {
   "codemirror_mode": {
    "name": "ipython",
    "version": 3
   },
   "file_extension": ".py",
   "mimetype": "text/x-python",
   "name": "python",
   "nbconvert_exporter": "python",
   "pygments_lexer": "ipython3",
   "version": "3.8.10"
  },
  "orig_nbformat": 4
 },
 "nbformat": 4,
 "nbformat_minor": 2
}
